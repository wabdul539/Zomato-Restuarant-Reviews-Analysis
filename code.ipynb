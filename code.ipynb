{
 "cells": [
  {
   "cell_type": "markdown",
   "metadata": {
    "id": "LGcl5Bv9ed6u"
   },
   "source": [
    "# **Problem Statement**"
   ]
  },
  {
   "cell_type": "markdown",
   "metadata": {
    "id": "Dtb2te3Omis9"
   },
   "source": [
    "Zomato is an Indian restaurant aggregator and food delivery start-up founded by Deepinder Goyal and Pankaj Chaddah in 2008. Zomato provides information, menus and user-reviews of restaurants, and also has food delivery options from partner restaurants in select cities.\n",
    "\n",
    "India is quite famous for its diverse multi cuisine available in a large number of restaurants and hotel resorts, which is reminiscent of unity in diversity. Restaurant business in India is always evolving. More Indians are warming up to the idea of eating restaurant food whether by dining outside or getting food delivered. The growing number of restaurants in every state of India has been a motivation to inspect the data to get some insights, interesting facts and figures about the Indian food industry in each city. So, this project focuses on analysing the Zomato restaurant data for each city in India.\n",
    "\n",
    "The Project focuses on Customers and Company, you have  to analyze the sentiments of the reviews given by the customer in the data and made some useful conclusion in the form of Visualizations. Also, cluster the zomato restaurants into different segments. The data is vizualized as it becomes easy to analyse data at instant. The Analysis also solve some of the business cases that can directly help the customers finding the Best restaurant in their locality and for the company to grow up and work on the fields they are currently lagging in.\n",
    "\n",
    "This could help in clustering the restaurants into segments. Also the data has valuable information around cuisine and costing which can be used in cost vs. benefit analysis\n",
    "\n",
    "Data could be used for sentiment analysis. Also the metadata of reviewers can be used for identifying the critics in the industry. "
   ]
  },
  {
   "cell_type": "markdown",
   "metadata": {
    "id": "AzGDqdC4fZ-b"
   },
   "source": [
    "# **Attribute Information**"
   ]
  },
  {
   "cell_type": "markdown",
   "metadata": {
    "id": "1rDsYX7KtvFb"
   },
   "source": [
    "## **Zomato Restaurant names and Metadata**\n",
    "Use this dataset for clustering part"
   ]
  },
  {
   "cell_type": "markdown",
   "metadata": {
    "id": "3uB3PQRXtz-A"
   },
   "source": [
    "1. Name : Name of Restaurants\n",
    "\n",
    "2. Links : URL Links of Restaurants\n",
    "\n",
    "3. Cost : Per person estimated Cost of dining\n",
    "\n",
    "4. Collection : Tagging of Restaurants w.r.t. Zomato categories\n",
    "\n",
    "5. Cuisines : Cuisines served by Restaurants\n",
    "\n",
    "6. Timings : Restaurant Timings"
   ]
  },
  {
   "cell_type": "markdown",
   "metadata": {
    "id": "Pq7CVNxQuT8i"
   },
   "source": [
    "## **Zomato Restaurant reviews**\n",
    "Merge this dataset with Names and Matadata and then use for sentiment analysis part"
   ]
  },
  {
   "cell_type": "markdown",
   "metadata": {
    "id": "k9E4XoEGuc0G"
   },
   "source": [
    "1. Restaurant : Name of the Restaurant\n",
    "\n",
    "2. Reviewer : Name of the Reviewer\n",
    "\n",
    "3. Review : Review Text\n",
    "\n",
    "4. Rating : Rating Provided by Reviewer\n",
    "\n",
    "5. MetaData : Reviewer Metadata - No. of Reviews and followers\n",
    "\n",
    "6. Time: Date and Time of Review\n",
    "\n",
    "7. Pictures : No. of pictures posted with review"
   ]
  },
  {
   "cell_type": "code",
   "execution_count": 15,
   "metadata": {
    "executionInfo": {
     "elapsed": 14,
     "status": "ok",
     "timestamp": 1637148760167,
     "user": {
      "displayName": "Abdul Wadood",
      "photoUrl": "https://lh3.googleusercontent.com/a-/AOh14GhgLLL9psktfzeilxWHtdRWyR9N45WlascjGHlLFw=s64",
      "userId": "16074766953553746337"
     },
     "user_tz": -330
    },
    "id": "YKAiA7-LBxlh"
   },
   "outputs": [],
   "source": [
    "import pandas as pd\n",
    "import numpy as np   \n",
    "import matplotlib.pyplot as plt\n",
    "import seaborn as sns\n",
    "import warnings\n",
    "warnings.filterwarnings('ignore')"
   ]
  },
  {
   "cell_type": "code",
   "execution_count": 16,
   "metadata": {
    "colab": {
     "base_uri": "https://localhost:8080/"
    },
    "executionInfo": {
     "elapsed": 22599,
     "status": "ok",
     "timestamp": 1637148786321,
     "user": {
      "displayName": "Abdul Wadood",
      "photoUrl": "https://lh3.googleusercontent.com/a-/AOh14GhgLLL9psktfzeilxWHtdRWyR9N45WlascjGHlLFw=s64",
      "userId": "16074766953553746337"
     },
     "user_tz": -330
    },
    "id": "10rRqit8CBhu",
    "outputId": "b217fe64-6a8b-43d0-becd-e17b587d66f6"
   },
   "outputs": [],
   "source": [
    "# from google.colab import drive\n",
    "# drive.mount('/content/drive')"
   ]
  },
  {
   "cell_type": "code",
   "execution_count": 17,
   "metadata": {},
   "outputs": [],
   "source": [
    "pd.set_option('display.max_rows', 500)\n",
    "pd.set_option('display.max_columns', 500)\n",
    "pd.set_option('display.width', 500)"
   ]
  },
  {
   "cell_type": "code",
   "execution_count": 18,
   "metadata": {
    "executionInfo": {
     "elapsed": 373,
     "status": "ok",
     "timestamp": 1637154909317,
     "user": {
      "displayName": "Abdul Wadood",
      "photoUrl": "https://lh3.googleusercontent.com/a-/AOh14GhgLLL9psktfzeilxWHtdRWyR9N45WlascjGHlLFw=s64",
      "userId": "16074766953553746337"
     },
     "user_tz": -330
    },
    "id": "1h4PaWghB52I"
   },
   "outputs": [],
   "source": [
    "df = pd.read_csv('Zomato Restaurant names and Metadata.csv')"
   ]
  },
  {
   "cell_type": "code",
   "execution_count": 19,
   "metadata": {
    "colab": {
     "base_uri": "https://localhost:8080/",
     "height": 928
    },
    "executionInfo": {
     "elapsed": 14,
     "status": "ok",
     "timestamp": 1637154913174,
     "user": {
      "displayName": "Abdul Wadood",
      "photoUrl": "https://lh3.googleusercontent.com/a-/AOh14GhgLLL9psktfzeilxWHtdRWyR9N45WlascjGHlLFw=s64",
      "userId": "16074766953553746337"
     },
     "user_tz": -330
    },
    "id": "Q6fJ0VaxB5xP",
    "outputId": "0197bffd-da89-4c97-bb52-9e2ab5949b3c"
   },
   "outputs": [],
   "source": [
    "#df.head(20)"
   ]
  },
  {
   "cell_type": "code",
   "execution_count": 20,
   "metadata": {
    "colab": {
     "base_uri": "https://localhost:8080/"
    },
    "executionInfo": {
     "elapsed": 367,
     "status": "ok",
     "timestamp": 1637154916486,
     "user": {
      "displayName": "Abdul Wadood",
      "photoUrl": "https://lh3.googleusercontent.com/a-/AOh14GhgLLL9psktfzeilxWHtdRWyR9N45WlascjGHlLFw=s64",
      "userId": "16074766953553746337"
     },
     "user_tz": -330
    },
    "id": "crSwDxpMB5u2",
    "outputId": "61f94dd8-63dd-456d-a220-7f7a8b9bf3a1"
   },
   "outputs": [
    {
     "name": "stdout",
     "output_type": "stream",
     "text": [
      "<class 'pandas.core.frame.DataFrame'>\n",
      "RangeIndex: 105 entries, 0 to 104\n",
      "Data columns (total 6 columns):\n",
      " #   Column       Non-Null Count  Dtype \n",
      "---  ------       --------------  ----- \n",
      " 0   Name         105 non-null    object\n",
      " 1   Links        105 non-null    object\n",
      " 2   Cost         105 non-null    object\n",
      " 3   Collections  51 non-null     object\n",
      " 4   Cuisines     105 non-null    object\n",
      " 5   Timings      104 non-null    object\n",
      "dtypes: object(6)\n",
      "memory usage: 5.0+ KB\n"
     ]
    }
   ],
   "source": [
    "df.info()"
   ]
  },
  {
   "cell_type": "code",
   "execution_count": 21,
   "metadata": {
    "executionInfo": {
     "elapsed": 13,
     "status": "ok",
     "timestamp": 1637154918124,
     "user": {
      "displayName": "Abdul Wadood",
      "photoUrl": "https://lh3.googleusercontent.com/a-/AOh14GhgLLL9psktfzeilxWHtdRWyR9N45WlascjGHlLFw=s64",
      "userId": "16074766953553746337"
     },
     "user_tz": -330
    },
    "id": "3FxO87cOsGoD"
   },
   "outputs": [],
   "source": [
    "df = df.drop(labels='Collections', axis='columns')\n",
    "\n",
    "# converting cuisines columns data type to list\n",
    "df['Cuisines'] = df['Cuisines'].apply(lambda x: x.split(\", \"))\n",
    "\n",
    "# converting Cost columns data type to int\n",
    "df['Cost'] = df['Cost'].apply(lambda x: int(x.replace(',',\"\")))"
   ]
  },
  {
   "cell_type": "code",
   "execution_count": 22,
   "metadata": {
    "colab": {
     "base_uri": "https://localhost:8080/",
     "height": 202
    },
    "executionInfo": {
     "elapsed": 23,
     "status": "ok",
     "timestamp": 1637154919802,
     "user": {
      "displayName": "Abdul Wadood",
      "photoUrl": "https://lh3.googleusercontent.com/a-/AOh14GhgLLL9psktfzeilxWHtdRWyR9N45WlascjGHlLFw=s64",
      "userId": "16074766953553746337"
     },
     "user_tz": -330
    },
    "id": "7lObdZRdsGlm",
    "outputId": "818926c7-4eea-4066-ab54-44c54ff23e1f"
   },
   "outputs": [
    {
     "data": {
      "text/html": [
       "<div>\n",
       "<style scoped>\n",
       "    .dataframe tbody tr th:only-of-type {\n",
       "        vertical-align: middle;\n",
       "    }\n",
       "\n",
       "    .dataframe tbody tr th {\n",
       "        vertical-align: top;\n",
       "    }\n",
       "\n",
       "    .dataframe thead th {\n",
       "        text-align: right;\n",
       "    }\n",
       "</style>\n",
       "<table border=\"1\" class=\"dataframe\">\n",
       "  <thead>\n",
       "    <tr style=\"text-align: right;\">\n",
       "      <th></th>\n",
       "      <th>Name</th>\n",
       "      <th>Links</th>\n",
       "      <th>Cost</th>\n",
       "      <th>Cuisines</th>\n",
       "      <th>Timings</th>\n",
       "    </tr>\n",
       "  </thead>\n",
       "  <tbody>\n",
       "    <tr>\n",
       "      <th>0</th>\n",
       "      <td>Beyond Flavours</td>\n",
       "      <td>https://www.zomato.com/hyderabad/beyond-flavou...</td>\n",
       "      <td>800</td>\n",
       "      <td>[Chinese, Continental, Kebab, European, South ...</td>\n",
       "      <td>12noon to 3:30pm, 6:30pm to 11:30pm (Mon-Sun)</td>\n",
       "    </tr>\n",
       "    <tr>\n",
       "      <th>1</th>\n",
       "      <td>Paradise</td>\n",
       "      <td>https://www.zomato.com/hyderabad/paradise-gach...</td>\n",
       "      <td>800</td>\n",
       "      <td>[Biryani, North Indian, Chinese]</td>\n",
       "      <td>11 AM to 11 PM</td>\n",
       "    </tr>\n",
       "    <tr>\n",
       "      <th>2</th>\n",
       "      <td>Flechazo</td>\n",
       "      <td>https://www.zomato.com/hyderabad/flechazo-gach...</td>\n",
       "      <td>1300</td>\n",
       "      <td>[Asian, Mediterranean, North Indian, Desserts]</td>\n",
       "      <td>11:30 AM to 4:30 PM, 6:30 PM to 11 PM</td>\n",
       "    </tr>\n",
       "    <tr>\n",
       "      <th>3</th>\n",
       "      <td>Shah Ghouse Hotel &amp; Restaurant</td>\n",
       "      <td>https://www.zomato.com/hyderabad/shah-ghouse-h...</td>\n",
       "      <td>800</td>\n",
       "      <td>[Biryani, North Indian, Chinese, Seafood, Beve...</td>\n",
       "      <td>12 Noon to 2 AM</td>\n",
       "    </tr>\n",
       "    <tr>\n",
       "      <th>4</th>\n",
       "      <td>Over The Moon Brew Company</td>\n",
       "      <td>https://www.zomato.com/hyderabad/over-the-moon...</td>\n",
       "      <td>1200</td>\n",
       "      <td>[Asian, Continental, North Indian, Chinese, Me...</td>\n",
       "      <td>12noon to 11pm (Mon, Tue, Wed, Thu, Sun), 12no...</td>\n",
       "    </tr>\n",
       "  </tbody>\n",
       "</table>\n",
       "</div>"
      ],
      "text/plain": [
       "                             Name                                              Links  Cost                                           Cuisines                                            Timings\n",
       "0                 Beyond Flavours  https://www.zomato.com/hyderabad/beyond-flavou...   800  [Chinese, Continental, Kebab, European, South ...      12noon to 3:30pm, 6:30pm to 11:30pm (Mon-Sun)\n",
       "1                        Paradise  https://www.zomato.com/hyderabad/paradise-gach...   800                   [Biryani, North Indian, Chinese]                                     11 AM to 11 PM\n",
       "2                        Flechazo  https://www.zomato.com/hyderabad/flechazo-gach...  1300     [Asian, Mediterranean, North Indian, Desserts]              11:30 AM to 4:30 PM, 6:30 PM to 11 PM\n",
       "3  Shah Ghouse Hotel & Restaurant  https://www.zomato.com/hyderabad/shah-ghouse-h...   800  [Biryani, North Indian, Chinese, Seafood, Beve...                                    12 Noon to 2 AM\n",
       "4      Over The Moon Brew Company  https://www.zomato.com/hyderabad/over-the-moon...  1200  [Asian, Continental, North Indian, Chinese, Me...  12noon to 11pm (Mon, Tue, Wed, Thu, Sun), 12no..."
      ]
     },
     "execution_count": 22,
     "metadata": {},
     "output_type": "execute_result"
    }
   ],
   "source": [
    "df.head()"
   ]
  },
  {
   "cell_type": "code",
   "execution_count": 23,
   "metadata": {
    "executionInfo": {
     "elapsed": 381,
     "status": "ok",
     "timestamp": 1637155017511,
     "user": {
      "displayName": "Abdul Wadood",
      "photoUrl": "https://lh3.googleusercontent.com/a-/AOh14GhgLLL9psktfzeilxWHtdRWyR9N45WlascjGHlLFw=s64",
      "userId": "16074766953553746337"
     },
     "user_tz": -330
    },
    "id": "gN166DJvB7yI"
   },
   "outputs": [
    {
     "name": "stdout",
     "output_type": "stream",
     "text": [
      "44\n"
     ]
    }
   ],
   "source": [
    "cuisine_list = []\n",
    "for elem in df['Cuisines']:\n",
    "    for cuisine in elem:\n",
    "        if cuisine not in cuisine_list:\n",
    "            cuisine_list.append(cuisine)\n",
    "print(len(cuisine_list))     "
   ]
  },
  {
   "cell_type": "code",
   "execution_count": 24,
   "metadata": {},
   "outputs": [],
   "source": [
    "df_cuisine = pd.DataFrame(columns=cuisine_list)\n",
    "df = pd.concat([df, df_cuisine], axis=1)"
   ]
  },
  {
   "cell_type": "code",
   "execution_count": 25,
   "metadata": {},
   "outputs": [
    {
     "name": "stdout",
     "output_type": "stream",
     "text": [
      "<class 'pandas.core.frame.DataFrame'>\n",
      "Index: 105 entries, 0 to 104\n",
      "Data columns (total 49 columns):\n",
      " #   Column         Non-Null Count  Dtype \n",
      "---  ------         --------------  ----- \n",
      " 0   Name           105 non-null    object\n",
      " 1   Links          105 non-null    object\n",
      " 2   Cost           105 non-null    int64 \n",
      " 3   Cuisines       105 non-null    object\n",
      " 4   Timings        104 non-null    object\n",
      " 5   Chinese        0 non-null      object\n",
      " 6   Continental    0 non-null      object\n",
      " 7   Kebab          0 non-null      object\n",
      " 8   European       0 non-null      object\n",
      " 9   South Indian   0 non-null      object\n",
      " 10  North Indian   0 non-null      object\n",
      " 11  Biryani        0 non-null      object\n",
      " 12  Asian          0 non-null      object\n",
      " 13  Mediterranean  0 non-null      object\n",
      " 14  Desserts       0 non-null      object\n",
      " 15  Seafood        0 non-null      object\n",
      " 16  Beverages      0 non-null      object\n",
      " 17  Goan           0 non-null      object\n",
      " 18  Healthy Food   0 non-null      object\n",
      " 19  Lebanese       0 non-null      object\n",
      " 20  American       0 non-null      object\n",
      " 21  Ice Cream      0 non-null      object\n",
      " 22  Street Food    0 non-null      object\n",
      " 23  Fast Food      0 non-null      object\n",
      " 24  BBQ            0 non-null      object\n",
      " 25  Italian        0 non-null      object\n",
      " 26  Finger Food    0 non-null      object\n",
      " 27  Burger         0 non-null      object\n",
      " 28  Japanese       0 non-null      object\n",
      " 29  Salad          0 non-null      object\n",
      " 30  Sushi          0 non-null      object\n",
      " 31  Mexican        0 non-null      object\n",
      " 32  Mughlai        0 non-null      object\n",
      " 33  Andhra         0 non-null      object\n",
      " 34  Bakery         0 non-null      object\n",
      " 35  Juices         0 non-null      object\n",
      " 36  Arabian        0 non-null      object\n",
      " 37  Hyderabadi     0 non-null      object\n",
      " 38  Cafe           0 non-null      object\n",
      " 39  Spanish        0 non-null      object\n",
      " 40  Wraps          0 non-null      object\n",
      " 41  Thai           0 non-null      object\n",
      " 42  Indonesian     0 non-null      object\n",
      " 43  Modern Indian  0 non-null      object\n",
      " 44  Momos          0 non-null      object\n",
      " 45  Pizza          0 non-null      object\n",
      " 46  North Eastern  0 non-null      object\n",
      " 47  Mithai         0 non-null      object\n",
      " 48  Malaysian      0 non-null      object\n",
      "dtypes: int64(1), object(48)\n",
      "memory usage: 41.0+ KB\n"
     ]
    }
   ],
   "source": [
    "df.info()"
   ]
  },
  {
   "cell_type": "code",
   "execution_count": 26,
   "metadata": {
    "scrolled": true
   },
   "outputs": [],
   "source": [
    "#df.head()"
   ]
  },
  {
   "cell_type": "code",
   "execution_count": 27,
   "metadata": {},
   "outputs": [
    {
     "data": {
      "text/plain": [
       "<AxesSubplot:xlabel='Cost', ylabel='Density'>"
      ]
     },
     "execution_count": 27,
     "metadata": {},
     "output_type": "execute_result"
    },
    {
     "data": {
      "image/png": "[encoded data removed]",
      "text/plain": [
       "<Figure size 432x288 with 1 Axes>"
      ]
     },
     "metadata": {
      "needs_background": "light"
     },
     "output_type": "display_data"
    }
   ],
   "source": [
    "sns.distplot(a=df['Cost'])"
   ]
  },
  {
   "cell_type": "code",
   "execution_count": 28,
   "metadata": {},
   "outputs": [],
   "source": [
    "columns = list(df.columns)\n",
    "columns = columns[5:]\n",
    "for row in range(105):\n",
    "    for column in columns:\n",
    "        for elem in df.iloc[row, 3]:\n",
    "            if elem == column:\n",
    "                df.loc[row, column] = 1\n",
    "df = df.fillna(0)                "
   ]
  },
  {
   "cell_type": "code",
   "execution_count": 29,
   "metadata": {},
   "outputs": [
    {
     "data": {
      "text/html": [
       "<div>\n",
       "<style scoped>\n",
       "    .dataframe tbody tr th:only-of-type {\n",
       "        vertical-align: middle;\n",
       "    }\n",
       "\n",
       "    .dataframe tbody tr th {\n",
       "        vertical-align: top;\n",
       "    }\n",
       "\n",
       "    .dataframe thead th {\n",
       "        text-align: right;\n",
       "    }\n",
       "</style>\n",
       "<table border=\"1\" class=\"dataframe\">\n",
       "  <thead>\n",
       "    <tr style=\"text-align: right;\">\n",
       "      <th></th>\n",
       "      <th>Name</th>\n",
       "      <th>Links</th>\n",
       "      <th>Cost</th>\n",
       "      <th>Cuisines</th>\n",
       "      <th>Timings</th>\n",
       "      <th>Chinese</th>\n",
       "      <th>Continental</th>\n",
       "      <th>Kebab</th>\n",
       "      <th>European</th>\n",
       "      <th>South Indian</th>\n",
       "      <th>North Indian</th>\n",
       "      <th>Biryani</th>\n",
       "      <th>Asian</th>\n",
       "      <th>Mediterranean</th>\n",
       "      <th>Desserts</th>\n",
       "      <th>Seafood</th>\n",
       "      <th>Beverages</th>\n",
       "      <th>Goan</th>\n",
       "      <th>Healthy Food</th>\n",
       "      <th>Lebanese</th>\n",
       "      <th>American</th>\n",
       "      <th>Ice Cream</th>\n",
       "      <th>Street Food</th>\n",
       "      <th>Fast Food</th>\n",
       "      <th>BBQ</th>\n",
       "      <th>Italian</th>\n",
       "      <th>Finger Food</th>\n",
       "      <th>Burger</th>\n",
       "      <th>Japanese</th>\n",
       "      <th>Salad</th>\n",
       "      <th>Sushi</th>\n",
       "      <th>Mexican</th>\n",
       "      <th>Mughlai</th>\n",
       "      <th>Andhra</th>\n",
       "      <th>Bakery</th>\n",
       "      <th>Juices</th>\n",
       "      <th>Arabian</th>\n",
       "      <th>Hyderabadi</th>\n",
       "      <th>Cafe</th>\n",
       "      <th>Spanish</th>\n",
       "      <th>Wraps</th>\n",
       "      <th>Thai</th>\n",
       "      <th>Indonesian</th>\n",
       "      <th>Modern Indian</th>\n",
       "      <th>Momos</th>\n",
       "      <th>Pizza</th>\n",
       "      <th>North Eastern</th>\n",
       "      <th>Mithai</th>\n",
       "      <th>Malaysian</th>\n",
       "    </tr>\n",
       "  </thead>\n",
       "  <tbody>\n",
       "    <tr>\n",
       "      <th>0</th>\n",
       "      <td>Beyond Flavours</td>\n",
       "      <td>https://www.zomato.com/hyderabad/beyond-flavou...</td>\n",
       "      <td>800</td>\n",
       "      <td>[Chinese, Continental, Kebab, European, South ...</td>\n",
       "      <td>12noon to 3:30pm, 6:30pm to 11:30pm (Mon-Sun)</td>\n",
       "      <td>1</td>\n",
       "      <td>1</td>\n",
       "      <td>1</td>\n",
       "      <td>1</td>\n",
       "      <td>1</td>\n",
       "      <td>1</td>\n",
       "      <td>0</td>\n",
       "      <td>0</td>\n",
       "      <td>0</td>\n",
       "      <td>0</td>\n",
       "      <td>0</td>\n",
       "      <td>0</td>\n",
       "      <td>0</td>\n",
       "      <td>0</td>\n",
       "      <td>0</td>\n",
       "      <td>0</td>\n",
       "      <td>0</td>\n",
       "      <td>0</td>\n",
       "      <td>0</td>\n",
       "      <td>0</td>\n",
       "      <td>0</td>\n",
       "      <td>0</td>\n",
       "      <td>0</td>\n",
       "      <td>0</td>\n",
       "      <td>0</td>\n",
       "      <td>0</td>\n",
       "      <td>0</td>\n",
       "      <td>0</td>\n",
       "      <td>0</td>\n",
       "      <td>0</td>\n",
       "      <td>0</td>\n",
       "      <td>0</td>\n",
       "      <td>0</td>\n",
       "      <td>0</td>\n",
       "      <td>0</td>\n",
       "      <td>0</td>\n",
       "      <td>0</td>\n",
       "      <td>0</td>\n",
       "      <td>0</td>\n",
       "      <td>0</td>\n",
       "      <td>0</td>\n",
       "      <td>0</td>\n",
       "      <td>0</td>\n",
       "      <td>0</td>\n",
       "    </tr>\n",
       "    <tr>\n",
       "      <th>1</th>\n",
       "      <td>Paradise</td>\n",
       "      <td>https://www.zomato.com/hyderabad/paradise-gach...</td>\n",
       "      <td>800</td>\n",
       "      <td>[Biryani, North Indian, Chinese]</td>\n",
       "      <td>11 AM to 11 PM</td>\n",
       "      <td>1</td>\n",
       "      <td>0</td>\n",
       "      <td>0</td>\n",
       "      <td>0</td>\n",
       "      <td>0</td>\n",
       "      <td>1</td>\n",
       "      <td>1</td>\n",
       "      <td>0</td>\n",
       "      <td>0</td>\n",
       "      <td>0</td>\n",
       "      <td>0</td>\n",
       "      <td>0</td>\n",
       "      <td>0</td>\n",
       "      <td>0</td>\n",
       "      <td>0</td>\n",
       "      <td>0</td>\n",
       "      <td>0</td>\n",
       "      <td>0</td>\n",
       "      <td>0</td>\n",
       "      <td>0</td>\n",
       "      <td>0</td>\n",
       "      <td>0</td>\n",
       "      <td>0</td>\n",
       "      <td>0</td>\n",
       "      <td>0</td>\n",
       "      <td>0</td>\n",
       "      <td>0</td>\n",
       "      <td>0</td>\n",
       "      <td>0</td>\n",
       "      <td>0</td>\n",
       "      <td>0</td>\n",
       "      <td>0</td>\n",
       "      <td>0</td>\n",
       "      <td>0</td>\n",
       "      <td>0</td>\n",
       "      <td>0</td>\n",
       "      <td>0</td>\n",
       "      <td>0</td>\n",
       "      <td>0</td>\n",
       "      <td>0</td>\n",
       "      <td>0</td>\n",
       "      <td>0</td>\n",
       "      <td>0</td>\n",
       "      <td>0</td>\n",
       "    </tr>\n",
       "    <tr>\n",
       "      <th>2</th>\n",
       "      <td>Flechazo</td>\n",
       "      <td>https://www.zomato.com/hyderabad/flechazo-gach...</td>\n",
       "      <td>1300</td>\n",
       "      <td>[Asian, Mediterranean, North Indian, Desserts]</td>\n",
       "      <td>11:30 AM to 4:30 PM, 6:30 PM to 11 PM</td>\n",
       "      <td>0</td>\n",
       "      <td>0</td>\n",
       "      <td>0</td>\n",
       "      <td>0</td>\n",
       "      <td>0</td>\n",
       "      <td>1</td>\n",
       "      <td>0</td>\n",
       "      <td>1</td>\n",
       "      <td>1</td>\n",
       "      <td>1</td>\n",
       "      <td>0</td>\n",
       "      <td>0</td>\n",
       "      <td>0</td>\n",
       "      <td>0</td>\n",
       "      <td>0</td>\n",
       "      <td>0</td>\n",
       "      <td>0</td>\n",
       "      <td>0</td>\n",
       "      <td>0</td>\n",
       "      <td>0</td>\n",
       "      <td>0</td>\n",
       "      <td>0</td>\n",
       "      <td>0</td>\n",
       "      <td>0</td>\n",
       "      <td>0</td>\n",
       "      <td>0</td>\n",
       "      <td>0</td>\n",
       "      <td>0</td>\n",
       "      <td>0</td>\n",
       "      <td>0</td>\n",
       "      <td>0</td>\n",
       "      <td>0</td>\n",
       "      <td>0</td>\n",
       "      <td>0</td>\n",
       "      <td>0</td>\n",
       "      <td>0</td>\n",
       "      <td>0</td>\n",
       "      <td>0</td>\n",
       "      <td>0</td>\n",
       "      <td>0</td>\n",
       "      <td>0</td>\n",
       "      <td>0</td>\n",
       "      <td>0</td>\n",
       "      <td>0</td>\n",
       "    </tr>\n",
       "    <tr>\n",
       "      <th>3</th>\n",
       "      <td>Shah Ghouse Hotel &amp; Restaurant</td>\n",
       "      <td>https://www.zomato.com/hyderabad/shah-ghouse-h...</td>\n",
       "      <td>800</td>\n",
       "      <td>[Biryani, North Indian, Chinese, Seafood, Beve...</td>\n",
       "      <td>12 Noon to 2 AM</td>\n",
       "      <td>1</td>\n",
       "      <td>0</td>\n",
       "      <td>0</td>\n",
       "      <td>0</td>\n",
       "      <td>0</td>\n",
       "      <td>1</td>\n",
       "      <td>1</td>\n",
       "      <td>0</td>\n",
       "      <td>0</td>\n",
       "      <td>0</td>\n",
       "      <td>1</td>\n",
       "      <td>1</td>\n",
       "      <td>0</td>\n",
       "      <td>0</td>\n",
       "      <td>0</td>\n",
       "      <td>0</td>\n",
       "      <td>0</td>\n",
       "      <td>0</td>\n",
       "      <td>0</td>\n",
       "      <td>0</td>\n",
       "      <td>0</td>\n",
       "      <td>0</td>\n",
       "      <td>0</td>\n",
       "      <td>0</td>\n",
       "      <td>0</td>\n",
       "      <td>0</td>\n",
       "      <td>0</td>\n",
       "      <td>0</td>\n",
       "      <td>0</td>\n",
       "      <td>0</td>\n",
       "      <td>0</td>\n",
       "      <td>0</td>\n",
       "      <td>0</td>\n",
       "      <td>0</td>\n",
       "      <td>0</td>\n",
       "      <td>0</td>\n",
       "      <td>0</td>\n",
       "      <td>0</td>\n",
       "      <td>0</td>\n",
       "      <td>0</td>\n",
       "      <td>0</td>\n",
       "      <td>0</td>\n",
       "      <td>0</td>\n",
       "      <td>0</td>\n",
       "    </tr>\n",
       "    <tr>\n",
       "      <th>4</th>\n",
       "      <td>Over The Moon Brew Company</td>\n",
       "      <td>https://www.zomato.com/hyderabad/over-the-moon...</td>\n",
       "      <td>1200</td>\n",
       "      <td>[Asian, Continental, North Indian, Chinese, Me...</td>\n",
       "      <td>12noon to 11pm (Mon, Tue, Wed, Thu, Sun), 12no...</td>\n",
       "      <td>1</td>\n",
       "      <td>1</td>\n",
       "      <td>0</td>\n",
       "      <td>0</td>\n",
       "      <td>0</td>\n",
       "      <td>1</td>\n",
       "      <td>0</td>\n",
       "      <td>1</td>\n",
       "      <td>1</td>\n",
       "      <td>0</td>\n",
       "      <td>0</td>\n",
       "      <td>0</td>\n",
       "      <td>0</td>\n",
       "      <td>0</td>\n",
       "      <td>0</td>\n",
       "      <td>0</td>\n",
       "      <td>0</td>\n",
       "      <td>0</td>\n",
       "      <td>0</td>\n",
       "      <td>0</td>\n",
       "      <td>0</td>\n",
       "      <td>0</td>\n",
       "      <td>0</td>\n",
       "      <td>0</td>\n",
       "      <td>0</td>\n",
       "      <td>0</td>\n",
       "      <td>0</td>\n",
       "      <td>0</td>\n",
       "      <td>0</td>\n",
       "      <td>0</td>\n",
       "      <td>0</td>\n",
       "      <td>0</td>\n",
       "      <td>0</td>\n",
       "      <td>0</td>\n",
       "      <td>0</td>\n",
       "      <td>0</td>\n",
       "      <td>0</td>\n",
       "      <td>0</td>\n",
       "      <td>0</td>\n",
       "      <td>0</td>\n",
       "      <td>0</td>\n",
       "      <td>0</td>\n",
       "      <td>0</td>\n",
       "      <td>0</td>\n",
       "    </tr>\n",
       "  </tbody>\n",
       "</table>\n",
       "</div>"
      ],
      "text/plain": [
       "                             Name                                              Links  Cost                                           Cuisines                                            Timings  Chinese  Continental  Kebab  European  South Indian  North Indian  Biryani  Asian  Mediterranean  Desserts  Seafood  Beverages  Goan  Healthy Food  Lebanese  American  Ice Cream  Street Food  Fast Food  BBQ  Italian  Finger Food  Burger  Japanese  Salad  Sushi  Mexican  Mughlai  Andhra  Bakery  Juices  \\\n",
       "0                 Beyond Flavours  https://www.zomato.com/hyderabad/beyond-flavou...   800  [Chinese, Continental, Kebab, European, South ...      12noon to 3:30pm, 6:30pm to 11:30pm (Mon-Sun)        1            1      1         1             1             1        0      0              0         0        0          0     0             0         0         0          0            0          0    0        0            0       0         0      0      0        0        0       0       0       0   \n",
       "1                        Paradise  https://www.zomato.com/hyderabad/paradise-gach...   800                   [Biryani, North Indian, Chinese]                                     11 AM to 11 PM        1            0      0         0             0             1        1      0              0         0        0          0     0             0         0         0          0            0          0    0        0            0       0         0      0      0        0        0       0       0       0   \n",
       "2                        Flechazo  https://www.zomato.com/hyderabad/flechazo-gach...  1300     [Asian, Mediterranean, North Indian, Desserts]              11:30 AM to 4:30 PM, 6:30 PM to 11 PM        0            0      0         0             0             1        0      1              1         1        0          0     0             0         0         0          0            0          0    0        0            0       0         0      0      0        0        0       0       0       0   \n",
       "3  Shah Ghouse Hotel & Restaurant  https://www.zomato.com/hyderabad/shah-ghouse-h...   800  [Biryani, North Indian, Chinese, Seafood, Beve...                                    12 Noon to 2 AM        1            0      0         0             0             1        1      0              0         0        1          1     0             0         0         0          0            0          0    0        0            0       0         0      0      0        0        0       0       0       0   \n",
       "4      Over The Moon Brew Company  https://www.zomato.com/hyderabad/over-the-moon...  1200  [Asian, Continental, North Indian, Chinese, Me...  12noon to 11pm (Mon, Tue, Wed, Thu, Sun), 12no...        1            1      0         0             0             1        0      1              1         0        0          0     0             0         0         0          0            0          0    0        0            0       0         0      0      0        0        0       0       0       0   \n",
       "\n",
       "   Arabian  Hyderabadi  Cafe  Spanish  Wraps  Thai  Indonesian  Modern Indian  Momos  Pizza  North Eastern  Mithai  Malaysian  \n",
       "0        0           0     0        0      0     0           0              0      0      0              0       0          0  \n",
       "1        0           0     0        0      0     0           0              0      0      0              0       0          0  \n",
       "2        0           0     0        0      0     0           0              0      0      0              0       0          0  \n",
       "3        0           0     0        0      0     0           0              0      0      0              0       0          0  \n",
       "4        0           0     0        0      0     0           0              0      0      0              0       0          0  "
      ]
     },
     "execution_count": 29,
     "metadata": {},
     "output_type": "execute_result"
    }
   ],
   "source": [
    "df.head()"
   ]
  },
  {
   "cell_type": "code",
   "execution_count": null,
   "metadata": {},
   "outputs": [],
   "source": []
  },
  {
   "cell_type": "code",
   "execution_count": null,
   "metadata": {},
   "outputs": [],
   "source": []
  },
  {
   "cell_type": "code",
   "execution_count": null,
   "metadata": {},
   "outputs": [],
   "source": []
  },
  {
   "cell_type": "code",
   "execution_count": null,
   "metadata": {},
   "outputs": [],
   "source": []
  },
  {
   "cell_type": "code",
   "execution_count": null,
   "metadata": {},
   "outputs": [],
   "source": []
  },
  {
   "cell_type": "code",
   "execution_count": null,
   "metadata": {},
   "outputs": [],
   "source": []
  },
  {
   "cell_type": "code",
   "execution_count": null,
   "metadata": {},
   "outputs": [],
   "source": []
  },
  {
   "cell_type": "code",
   "execution_count": null,
   "metadata": {},
   "outputs": [],
   "source": []
  },
  {
   "cell_type": "code",
   "execution_count": null,
   "metadata": {},
   "outputs": [],
   "source": []
  },
  {
   "cell_type": "code",
   "execution_count": null,
   "metadata": {},
   "outputs": [],
   "source": []
  },
  {
   "cell_type": "code",
   "execution_count": null,
   "metadata": {},
   "outputs": [],
   "source": []
  },
  {
   "cell_type": "code",
   "execution_count": null,
   "metadata": {},
   "outputs": [],
   "source": []
  },
  {
   "cell_type": "code",
   "execution_count": null,
   "metadata": {},
   "outputs": [],
   "source": []
  },
  {
   "cell_type": "code",
   "execution_count": null,
   "metadata": {},
   "outputs": [],
   "source": []
  },
  {
   "cell_type": "code",
   "execution_count": null,
   "metadata": {},
   "outputs": [],
   "source": []
  },
  {
   "cell_type": "code",
   "execution_count": null,
   "metadata": {},
   "outputs": [],
   "source": []
  },
  {
   "cell_type": "code",
   "execution_count": null,
   "metadata": {},
   "outputs": [],
   "source": []
  },
  {
   "cell_type": "code",
   "execution_count": null,
   "metadata": {},
   "outputs": [],
   "source": []
  },
  {
   "cell_type": "code",
   "execution_count": null,
   "metadata": {},
   "outputs": [],
   "source": []
  },
  {
   "cell_type": "code",
   "execution_count": null,
   "metadata": {},
   "outputs": [],
   "source": []
  },
  {
   "cell_type": "code",
   "execution_count": null,
   "metadata": {},
   "outputs": [],
   "source": []
  },
  {
   "cell_type": "code",
   "execution_count": null,
   "metadata": {},
   "outputs": [],
   "source": []
  },
  {
   "cell_type": "code",
   "execution_count": null,
   "metadata": {},
   "outputs": [],
   "source": []
  },
  {
   "cell_type": "code",
   "execution_count": null,
   "metadata": {},
   "outputs": [],
   "source": []
  }
 ],
 "metadata": {
  "colab": {
   "collapsed_sections": [],
   "name": "ZOMATO RESTAURANT CLUSTERING AND SENTIMENT ANALYSIS.ipynb",
   "provenance": []
  },
  "kernelspec": {
   "display_name": "Python 3",
   "language": "python",
   "name": "python3"
  },
  "language_info": {
   "codemirror_mode": {
    "name": "ipython",
    "version": 3
   },
   "file_extension": ".py",
   "mimetype": "text/x-python",
   "name": "python",
   "nbconvert_exporter": "python",
   "pygments_lexer": "ipython3",
   "version": "3.8.5"
  }
 },
 "nbformat": 4,
 "nbformat_minor": 1
}
